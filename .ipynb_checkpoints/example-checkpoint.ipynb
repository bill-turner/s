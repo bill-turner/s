{
 "metadata": {
  "name": "",
  "signature": "sha256:e441705c4ab6234efafd2c8e85c0a42ac5b93c1484f3ea03eeec58372e8560d5"
 },
 "nbformat": 3,
 "nbformat_minor": 0,
 "worksheets": []
}